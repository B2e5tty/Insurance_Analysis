{
 "cells": [
  {
   "cell_type": "code",
   "execution_count": 1,
   "metadata": {},
   "outputs": [],
   "source": [
    "import pandas as pd\n",
    "import matplotlib.pyplot as plt\n",
    "import seaborn as sns\n",
    "import numpy as np\n",
    "\n",
    "import os\n",
    "import sys\n",
    "sys.path.append(os.path.abspath(os.path.join('..','src')))\n",
    "from eda import EDA"
   ]
  },
  {
   "cell_type": "code",
   "execution_count": 8,
   "metadata": {},
   "outputs": [
    {
     "name": "stderr",
     "output_type": "stream",
     "text": [
      "C:\\Users\\DELL\\AppData\\Local\\Temp\\ipykernel_9528\\2890941239.py:2: DtypeWarning: Columns (32,37) have mixed types. Specify dtype option on import or set low_memory=False.\n",
      "  df = pd.read_csv('../MachineLearningRating_v3.txt',sep=\"|\")\n"
     ]
    }
   ],
   "source": [
    "# read the data\n",
    "df = pd.read_csv('../MachineLearningRating_v3.txt',sep=\"|\")\n",
    "\n",
    "# only selecting feature useful for the analysis\n",
    "df = df[[\"Gender\", \"Province\", \"PostalCode\",\t\"VehicleType\", \"RegistrationYear\", \"SumInsured\", \"TermFrequency\", \"TotalPremium\", \"Product\", \"CoverType\", \"TotalClaims\", \"StatutoryRiskType\", \"PolicyID\", \"Section\", \"CalculatedPremiumPerTerm\"]]"
   ]
  },
  {
   "cell_type": "code",
   "execution_count": 9,
   "metadata": {},
   "outputs": [
    {
     "name": "stdout",
     "output_type": "stream",
     "text": [
      "Shape of the dataframe:\n",
      "(1000098, 16)\n",
      "\n",
      "Datatypes of each columns:\n",
      "Gender                       object\n",
      "Province                     object\n",
      "PostalCode                    int64\n",
      "VehicleType                  object\n",
      "RegistrationYear              int64\n",
      "SumInsured                  float64\n",
      "TermFrequency                object\n",
      "TotalPremium                float64\n",
      "Product                      object\n",
      "CoverType                    object\n",
      "TotalClaims                 float64\n",
      "StatutoryRiskType            object\n",
      "PolicyID                      int64\n",
      "Section                      object\n",
      "CalculatedPremiumPerTerm    float64\n",
      "StatutoryRiskType            object\n",
      "dtype: object\n",
      "\n",
      "Information on the data:\n",
      "<class 'pandas.core.frame.DataFrame'>\n",
      "RangeIndex: 1000098 entries, 0 to 1000097\n",
      "Data columns (total 16 columns):\n",
      " #   Column                    Non-Null Count    Dtype  \n",
      "---  ------                    --------------    -----  \n",
      " 0   Gender                    990562 non-null   object \n",
      " 1   Province                  1000098 non-null  object \n",
      " 2   PostalCode                1000098 non-null  int64  \n",
      " 3   VehicleType               999546 non-null   object \n",
      " 4   RegistrationYear          1000098 non-null  int64  \n",
      " 5   SumInsured                1000098 non-null  float64\n",
      " 6   TermFrequency             1000098 non-null  object \n",
      " 7   TotalPremium              1000098 non-null  float64\n",
      " 8   Product                   1000098 non-null  object \n",
      " 9   CoverType                 1000098 non-null  object \n",
      " 10  TotalClaims               1000098 non-null  float64\n",
      " 11  StatutoryRiskType         1000098 non-null  object \n",
      " 12  PolicyID                  1000098 non-null  int64  \n",
      " 13  Section                   1000098 non-null  object \n",
      " 14  CalculatedPremiumPerTerm  1000098 non-null  float64\n",
      " 15  StatutoryRiskType         1000098 non-null  object \n",
      "dtypes: float64(4), int64(3), object(9)\n",
      "memory usage: 122.1+ MB\n",
      "None\n",
      "\n",
      "Describe the numerical column statistics:\n",
      "         PostalCode  RegistrationYear    SumInsured  TotalPremium  \\\n",
      "count  1.000098e+06      1.000098e+06  1.000098e+06  1.000098e+06   \n",
      "mean   3.020601e+03      2.010225e+03  6.041727e+05  6.190550e+01   \n",
      "std    2.649854e+03      3.261391e+00  1.508332e+06  2.302845e+02   \n",
      "min    1.000000e+00      1.987000e+03  1.000000e-02 -7.825768e+02   \n",
      "25%    8.270000e+02      2.008000e+03  5.000000e+03  0.000000e+00   \n",
      "50%    2.000000e+03      2.011000e+03  7.500000e+03  2.178333e+00   \n",
      "75%    4.180000e+03      2.013000e+03  2.500000e+05  2.192982e+01   \n",
      "max    9.870000e+03      2.015000e+03  1.263620e+07  6.528260e+04   \n",
      "\n",
      "        TotalClaims      PolicyID  CalculatedPremiumPerTerm  \n",
      "count  1.000098e+06  1.000098e+06              1.000098e+06  \n",
      "mean   6.486119e+01  7.956682e+03              1.178757e+02  \n",
      "std    2.384075e+03  5.290039e+03              3.997017e+02  \n",
      "min   -1.200241e+04  1.400000e+01              0.000000e+00  \n",
      "25%    0.000000e+00  4.500000e+03              3.224800e+00  \n",
      "50%    0.000000e+00  7.071000e+03              8.436900e+00  \n",
      "75%    0.000000e+00  1.107700e+04              9.000000e+01  \n",
      "max    3.930921e+05  2.324600e+04              7.442217e+04  \n",
      "\n",
      "The first five rows of the data:\n",
      "          Gender Province  PostalCode        VehicleType  RegistrationYear  \\\n",
      "0  Not specified  Gauteng        1459  Passenger Vehicle              2004   \n",
      "1  Not specified  Gauteng        1459  Passenger Vehicle              2004   \n",
      "2  Not specified  Gauteng        1459  Passenger Vehicle              2004   \n",
      "3  Not specified  Gauteng        1459  Passenger Vehicle              2004   \n",
      "4  Not specified  Gauteng        1459  Passenger Vehicle              2004   \n",
      "\n",
      "   SumInsured TermFrequency  TotalPremium                          Product  \\\n",
      "0        0.01       Monthly     21.929825  Mobility Metered Taxis: Monthly   \n",
      "1        0.01       Monthly     21.929825  Mobility Metered Taxis: Monthly   \n",
      "2        0.01       Monthly      0.000000  Mobility Metered Taxis: Monthly   \n",
      "3   119300.00       Monthly    512.848070  Mobility Metered Taxis: Monthly   \n",
      "4   119300.00       Monthly      0.000000  Mobility Metered Taxis: Monthly   \n",
      "\n",
      "    CoverType  TotalClaims StatutoryRiskType  PolicyID              Section  \\\n",
      "0  Windscreen          0.0     IFRS Constant     12827  Motor Comprehensive   \n",
      "1  Windscreen          0.0     IFRS Constant     12827  Motor Comprehensive   \n",
      "2  Windscreen          0.0     IFRS Constant     12827  Motor Comprehensive   \n",
      "3  Own Damage          0.0     IFRS Constant     12827  Motor Comprehensive   \n",
      "4  Own Damage          0.0     IFRS Constant     12827  Motor Comprehensive   \n",
      "\n",
      "   CalculatedPremiumPerTerm StatutoryRiskType  \n",
      "0                   25.0000     IFRS Constant  \n",
      "1                   25.0000     IFRS Constant  \n",
      "2                   25.0000     IFRS Constant  \n",
      "3                  584.6468     IFRS Constant  \n",
      "4                  584.6468     IFRS Constant  \n",
      "\n",
      "The bottom five rows of the date:\n",
      "        Gender      Province  PostalCode        VehicleType  RegistrationYear  \\\n",
      "1000093   Male  Western Cape        7493  Passenger Vehicle              2013   \n",
      "1000094   Male  Western Cape        7493  Passenger Vehicle              2013   \n",
      "1000095   Male  Western Cape        7493  Passenger Vehicle              2013   \n",
      "1000096   Male  Western Cape        7493  Passenger Vehicle              2013   \n",
      "1000097   Male  Western Cape        7493  Passenger Vehicle              2013   \n",
      "\n",
      "         SumInsured TermFrequency  TotalPremium  \\\n",
      "1000093    500000.0       Monthly    347.235175   \n",
      "1000094    500000.0       Monthly    347.235175   \n",
      "1000095    500000.0       Monthly    347.235175   \n",
      "1000096   5000000.0       Monthly      2.315000   \n",
      "1000097   5000000.0       Monthly      2.315000   \n",
      "\n",
      "                                    Product            CoverType  TotalClaims  \\\n",
      "1000093  Mobility Commercial Cover: Monthly          Third Party          0.0   \n",
      "1000094  Mobility Commercial Cover: Monthly          Third Party          0.0   \n",
      "1000095  Mobility Commercial Cover: Monthly          Third Party          0.0   \n",
      "1000096  Mobility Commercial Cover: Monthly  Passenger Liability          0.0   \n",
      "1000097  Mobility Commercial Cover: Monthly  Passenger Liability          0.0   \n",
      "\n",
      "        StatutoryRiskType  PolicyID              Section  \\\n",
      "1000093     IFRS Constant       389  Motor Comprehensive   \n",
      "1000094     IFRS Constant       389  Motor Comprehensive   \n",
      "1000095     IFRS Constant       389  Motor Comprehensive   \n",
      "1000096     IFRS Constant       389  Motor Comprehensive   \n",
      "1000097     IFRS Constant       389  Motor Comprehensive   \n",
      "\n",
      "         CalculatedPremiumPerTerm StatutoryRiskType  \n",
      "1000093                  395.8481     IFRS Constant  \n",
      "1000094                  395.8481     IFRS Constant  \n",
      "1000095                  395.8481     IFRS Constant  \n",
      "1000096                    2.6391     IFRS Constant  \n",
      "1000097                    2.6391     IFRS Constant  \n",
      "\n"
     ]
    }
   ],
   "source": [
    "# intialize the class\n",
    "eda = EDA(df)\n",
    "eda.overview()"
   ]
  },
  {
   "cell_type": "code",
   "execution_count": 4,
   "metadata": {},
   "outputs": [
    {
     "name": "stdout",
     "output_type": "stream",
     "text": [
      "Bank\n",
      "AccountType\n",
      "MaritalStatus\n",
      "Gender\n",
      "mmcode\n",
      "VehicleType\n",
      "make\n",
      "Model\n",
      "Cylinders\n",
      "cubiccapacity\n",
      "kilowatts\n",
      "bodytype\n",
      "NumberOfDoors\n",
      "VehicleIntroDate\n",
      "CustomValueEstimate\n",
      "CapitalOutstanding\n",
      "NewVehicle\n",
      "WrittenOff\n",
      "Rebuilt\n",
      "Converted\n",
      "CrossBorder\n",
      "NumberOfVehiclesInFleet\n"
     ]
    }
   ],
   "source": [
    "# # print columns with missing values\n",
    "eda.columns_with_null()"
   ]
  },
  {
   "cell_type": "code",
   "execution_count": 11,
   "metadata": {},
   "outputs": [
    {
     "data": {
      "text/plain": [
       "'\\n    Gender : Categorical,\\n    Province : Categorical,\\n    PostalCode : Categorical,\\n    PostalCode : Categorical,\\n    PostalCode : Categorical,\\n    PostalCode : Categorical,\\n\\n'"
      ]
     },
     "execution_count": 11,
     "metadata": {},
     "output_type": "execute_result"
    }
   ],
   "source": [
    "# change datatype of columns\n",
    "'''\n",
    "    Gender : Categorical,\n",
    "    Province : Categorical,\n",
    "    PostalCode : Categorical,\n",
    "    VehicleType : Categorical,\n",
    "    RegistrationYear : DateTime,\n",
    "    TermFrequency : Categorical,\n",
    "    Product : Categorical,\n",
    "    CoverType : Categorical,\n",
    "    StatutoryRiskType : Categorical,\n",
    "    PolicyID : Object,\n",
    "    Section : Categorical\n",
    "'''"
   ]
  },
  {
   "cell_type": "code",
   "execution_count": null,
   "metadata": {},
   "outputs": [],
   "source": []
  }
 ],
 "metadata": {
  "kernelspec": {
   "display_name": "base",
   "language": "python",
   "name": "python3"
  },
  "language_info": {
   "codemirror_mode": {
    "name": "ipython",
    "version": 3
   },
   "file_extension": ".py",
   "mimetype": "text/x-python",
   "name": "python",
   "nbconvert_exporter": "python",
   "pygments_lexer": "ipython3",
   "version": "3.11.5"
  }
 },
 "nbformat": 4,
 "nbformat_minor": 2
}
